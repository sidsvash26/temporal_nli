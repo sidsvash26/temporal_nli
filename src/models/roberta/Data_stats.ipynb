{
 "cells": [
  {
   "cell_type": "code",
   "execution_count": 1,
   "metadata": {},
   "outputs": [],
   "source": [
    "import pandas as pd\n",
    "import numpy as np"
   ]
  },
  {
   "cell_type": "code",
   "execution_count": 2,
   "metadata": {},
   "outputs": [],
   "source": [
    "locs = {}\n",
    "locs['train'] = \"../../../data/train/\"\n",
    "locs['dev'] = \"../../../data/dev/\"\n",
    "locs['test'] = \"../../../data/test/\""
   ]
  },
  {
   "cell_type": "markdown",
   "metadata": {},
   "source": [
    "## UDS-dur"
   ]
  },
  {
   "cell_type": "code",
   "execution_count": 3,
   "metadata": {},
   "outputs": [],
   "source": [
    "uds_dur = {}\n",
    "for split in ['train', 'dev', 'test']:\n",
    "    uds_dur[split] = pd.read_csv(locs[split] + split + \"-temporal-duration-data.tsv\", sep=\"\\t\")"
   ]
  },
  {
   "cell_type": "code",
   "execution_count": 4,
   "metadata": {},
   "outputs": [
    {
     "name": "stdout",
     "output_type": "stream",
     "text": [
      "Train: 437,836 \n",
      "Dev: 34,446 \n",
      "Test: 31,854\n"
     ]
    }
   ],
   "source": [
    "print(f\"Train: {uds_dur['train'].shape[0]:,}\",\n",
    "      f\"\\nDev: {uds_dur['dev'].shape[0]:,}\",\n",
    "      f\"\\nTest: {uds_dur['test'].shape[0]:,}\")"
   ]
  },
  {
   "cell_type": "markdown",
   "metadata": {},
   "source": [
    "## UDS-rel"
   ]
  },
  {
   "cell_type": "code",
   "execution_count": 5,
   "metadata": {},
   "outputs": [],
   "source": [
    "uds_rel = {}\n",
    "for split in ['train', 'dev', 'test']:\n",
    "    uds_rel[split] = pd.read_csv(locs[split] + split + \"-temporal-relation-data.tsv\", sep=\"\\t\")"
   ]
  },
  {
   "cell_type": "code",
   "execution_count": 6,
   "metadata": {},
   "outputs": [
    {
     "name": "stdout",
     "output_type": "stream",
     "text": [
      "Train: 476,744 \n",
      "Dev: 45,104 \n",
      "Test: 41,096\n"
     ]
    }
   ],
   "source": [
    "print(f\"Train: {uds_rel['train'].shape[0]:,}\",\n",
    "      f\"\\nDev: {uds_rel['dev'].shape[0]:,}\",\n",
    "      f\"\\nTest: {uds_rel['test'].shape[0]:,}\")"
   ]
  },
  {
   "cell_type": "markdown",
   "metadata": {},
   "source": [
    "## TBD"
   ]
  },
  {
   "cell_type": "code",
   "execution_count": 7,
   "metadata": {},
   "outputs": [],
   "source": [
    "tbd = {}\n",
    "for split in ['train', 'dev', 'test']:\n",
    "    tbd[split] = pd.read_csv(locs[split] + split + \"-tbdense-data.tsv\", sep=\"\\t\")"
   ]
  },
  {
   "cell_type": "code",
   "execution_count": 8,
   "metadata": {},
   "outputs": [
    {
     "name": "stdout",
     "output_type": "stream",
     "text": [
      "Train: 7,418 \n",
      "Dev: 1,528 \n",
      "Test: 2,964\n"
     ]
    }
   ],
   "source": [
    "print(f\"Train: {tbd['train'].shape[0]:,}\",\n",
    "      f\"\\nDev: {tbd['dev'].shape[0]:,}\",\n",
    "      f\"\\nTest: {tbd['test'].shape[0]:,}\")"
   ]
  },
  {
   "cell_type": "markdown",
   "metadata": {},
   "source": [
    "## RED"
   ]
  },
  {
   "cell_type": "code",
   "execution_count": 9,
   "metadata": {},
   "outputs": [],
   "source": [
    "red = {}\n",
    "for split in ['train', 'dev', 'test']:\n",
    "    red[split] = pd.read_csv(locs[split] + split + \"-red-data.tsv\", sep=\"\\t\")"
   ]
  },
  {
   "cell_type": "code",
   "execution_count": 10,
   "metadata": {},
   "outputs": [
    {
     "name": "stdout",
     "output_type": "stream",
     "text": [
      "Train: 4,844 \n",
      "Dev: 296 \n",
      "Test: 438\n"
     ]
    }
   ],
   "source": [
    "print(f\"Train: {red['train'].shape[0]:,}\",\n",
    "      f\"\\nDev: {red['dev'].shape[0]:,}\",\n",
    "      f\"\\nTest: {red['test'].shape[0]:,}\")"
   ]
  },
  {
   "cell_type": "markdown",
   "metadata": {},
   "source": [
    "## TE3"
   ]
  },
  {
   "cell_type": "code",
   "execution_count": 11,
   "metadata": {},
   "outputs": [],
   "source": [
    "te3 = {}\n",
    "for split in ['train', 'dev', 'test']:\n",
    "    te3[split] = pd.read_csv(locs[split] + split + \"-tempeval3-data.tsv\", sep=\"\\t\")"
   ]
  },
  {
   "cell_type": "code",
   "execution_count": 12,
   "metadata": {},
   "outputs": [
    {
     "name": "stdout",
     "output_type": "stream",
     "text": [
      "Train: 20,592 \n",
      "Dev: 3,320 \n",
      "Test: 3,336\n"
     ]
    }
   ],
   "source": [
    "print(f\"Train: {te3['train'].shape[0]:,}\",\n",
    "      f\"\\nDev: {te3['dev'].shape[0]:,}\",\n",
    "      f\"\\nTest: {te3['test'].shape[0]:,}\")"
   ]
  },
  {
   "cell_type": "code",
   "execution_count": null,
   "metadata": {},
   "outputs": [],
   "source": []
  }
 ],
 "metadata": {
  "kernelspec": {
   "display_name": "Python 3",
   "language": "python",
   "name": "python3"
  },
  "language_info": {
   "codemirror_mode": {
    "name": "ipython",
    "version": 3
   },
   "file_extension": ".py",
   "mimetype": "text/x-python",
   "name": "python",
   "nbconvert_exporter": "python",
   "pygments_lexer": "ipython3",
   "version": "3.7.7"
  }
 },
 "nbformat": 4,
 "nbformat_minor": 2
}
